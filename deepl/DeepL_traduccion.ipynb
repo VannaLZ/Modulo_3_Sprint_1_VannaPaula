{
 "cells": [
  {
   "cell_type": "markdown",
   "metadata": {},
   "source": [
    "# Traducción columna *Region* - Libreria **deepL**\n",
    "\n",
    "### Importamos la libreria **deepL** utilizando la *auth_key*\n",
    "\n",
    "\n",
    "Enlace con toda la info\n",
    "https://github.com/DeepLcom/deepl-python"
   ]
  },
  {
   "cell_type": "code",
   "execution_count": 1,
   "metadata": {},
   "outputs": [
    {
     "data": {
      "text/plain": [
       "True"
      ]
     },
     "execution_count": 1,
     "metadata": {},
     "output_type": "execute_result"
    }
   ],
   "source": [
    "import deepl\n",
    "\n",
    "import pandas as pd\n",
    "import numpy as np\n",
    "import re\n",
    "\n",
    "import os\n",
    "from dotenv import load_dotenv\n",
    "load_dotenv()"
   ]
  },
  {
   "cell_type": "code",
   "execution_count": null,
   "metadata": {},
   "outputs": [],
   "source": [
    "auth_key = os.getenv(\"auth_key\")"
   ]
  },
  {
   "cell_type": "code",
   "execution_count": null,
   "metadata": {},
   "outputs": [],
   "source": [
    "translator = deepl.Translator(auth_key)"
   ]
  },
  {
   "cell_type": "code",
   "execution_count": null,
   "metadata": {},
   "outputs": [],
   "source": [
    "pd.options.display.max_columns = None"
   ]
  },
  {
   "cell_type": "markdown",
   "metadata": {},
   "source": [
    "Utilizamos una copia del fichero original."
   ]
  },
  {
   "cell_type": "code",
   "execution_count": null,
   "metadata": {},
   "outputs": [],
   "source": [
    "df = pd.read_csv(\"world_risk_index copy.csv\")"
   ]
  },
  {
   "cell_type": "code",
   "execution_count": null,
   "metadata": {},
   "outputs": [],
   "source": [
    "df.head(2)"
   ]
  },
  {
   "cell_type": "markdown",
   "metadata": {},
   "source": [
    "Calculamos el numero de digitos que tenemos en la columna *Region* porque **deepL** nos permite traducir\n",
    "un maximo de 500.000 caracteres al mes."
   ]
  },
  {
   "cell_type": "code",
   "execution_count": null,
   "metadata": {},
   "outputs": [],
   "source": [
    "lista_region = []\n",
    "\n",
    "for i in df[\"Region\"]:\n",
    "    lista_region.append(i)"
   ]
  },
  {
   "cell_type": "code",
   "execution_count": null,
   "metadata": {},
   "outputs": [],
   "source": [
    "lista_region_string = \",\".join(map(str,[lista_region]))"
   ]
  },
  {
   "cell_type": "code",
   "execution_count": null,
   "metadata": {},
   "outputs": [],
   "source": [
    "total_letters = len(re.findall('[A-z]', lista_region_string))\n",
    "    # iterate through all characters\n",
    "print(f\"El total de las leteras en la columnas Region es de {total_letters}\")"
   ]
  },
  {
   "cell_type": "markdown",
   "metadata": {},
   "source": [
    "--------------------------------------"
   ]
  },
  {
   "cell_type": "code",
   "execution_count": null,
   "metadata": {},
   "outputs": [],
   "source": [
    "#calculo el numero de unique para paragonarlo al traducido y al limpiado\n",
    "region_unique = df[\"Region\"].describe()[1]\n",
    "print(f\"El numero inicial de paises unicos es de {region_unique}\")"
   ]
  },
  {
   "cell_type": "markdown",
   "metadata": {},
   "source": [
    "-------------------------------"
   ]
  },
  {
   "cell_type": "markdown",
   "metadata": {},
   "source": [
    "Formula para traducir los paises en la columna *Region*"
   ]
  },
  {
   "cell_type": "code",
   "execution_count": null,
   "metadata": {},
   "outputs": [],
   "source": [
    "def traducir(columna):\n",
    "        columna = columna.lower()\n",
    "        english = translator.translate_text(columna, target_lang = \"EN-GB\")\n",
    "        return english"
   ]
  },
  {
   "cell_type": "markdown",
   "metadata": {},
   "source": [
    "----------------"
   ]
  },
  {
   "cell_type": "code",
   "execution_count": null,
   "metadata": {},
   "outputs": [],
   "source": [
    "#dataframe para testar la traducion\n",
    "df_test = df.sample(10)\n",
    "df_test.shape\n"
   ]
  },
  {
   "cell_type": "code",
   "execution_count": null,
   "metadata": {},
   "outputs": [],
   "source": [
    "df_test[\"region_lower\"] = df_test[\"Region\"].apply(traducir)\n",
    "df_test"
   ]
  },
  {
   "cell_type": "code",
   "execution_count": null,
   "metadata": {},
   "outputs": [],
   "source": [
    "malawi = df_test[df_test[\"region_lower\"] == \"malawi\"]\n",
    "malawi"
   ]
  },
  {
   "cell_type": "code",
   "execution_count": null,
   "metadata": {},
   "outputs": [],
   "source": [
    "def quitar_espacios_lower(columna):\n",
    "        columna = str(columna)\n",
    "        columna = columna.strip().lower()\n",
    "        return columna"
   ]
  },
  {
   "cell_type": "code",
   "execution_count": null,
   "metadata": {},
   "outputs": [],
   "source": [
    "df_test[\"region_lower\"] = df_test[\"region_lower\"].apply(quitar_espacios_lower)"
   ]
  },
  {
   "cell_type": "code",
   "execution_count": null,
   "metadata": {},
   "outputs": [],
   "source": [
    "malawi = df_test[df_test[\"region_lower\"] == \"malawi\"]\n",
    "malawi"
   ]
  },
  {
   "cell_type": "code",
   "execution_count": null,
   "metadata": {},
   "outputs": [],
   "source": [
    "df_test[\"region_lower\"]"
   ]
  },
  {
   "cell_type": "markdown",
   "metadata": {},
   "source": [
    "----------------------------------------------------------"
   ]
  },
  {
   "cell_type": "markdown",
   "metadata": {},
   "source": [
    "# Traducción del entero *DataFrame*"
   ]
  },
  {
   "cell_type": "code",
   "execution_count": null,
   "metadata": {},
   "outputs": [],
   "source": [
    "df[\"countries\"] = df[\"Region\"].apply(traducir)"
   ]
  },
  {
   "cell_type": "code",
   "execution_count": null,
   "metadata": {},
   "outputs": [],
   "source": [
    "df.sample(10)"
   ]
  },
  {
   "cell_type": "code",
   "execution_count": null,
   "metadata": {},
   "outputs": [],
   "source": [
    "df[\"countries\"] = df[\"countries\"].apply(quitar_espacios_lower)"
   ]
  },
  {
   "cell_type": "code",
   "execution_count": null,
   "metadata": {},
   "outputs": [],
   "source": [
    "df.head()"
   ]
  },
  {
   "cell_type": "code",
   "execution_count": null,
   "metadata": {},
   "outputs": [],
   "source": [
    "df[\"countries\"].describe()[1]\n",
    "#unicos en countries = 235"
   ]
  },
  {
   "cell_type": "code",
   "execution_count": null,
   "metadata": {},
   "outputs": [],
   "source": [
    "df[\"Region\"].describe()[1] - df[\"countries\"].describe()[1]\n",
    "#diferencia con Region"
   ]
  },
  {
   "cell_type": "markdown",
   "metadata": {},
   "source": [
    "Guardo el fichero para no tener que traducir otra vez."
   ]
  },
  {
   "cell_type": "code",
   "execution_count": null,
   "metadata": {},
   "outputs": [],
   "source": [
    "df.to_csv('world_risk_translate.csv') #Guardamos el csv con los cambios"
   ]
  },
  {
   "cell_type": "markdown",
   "metadata": {},
   "source": [
    "----------"
   ]
  },
  {
   "cell_type": "markdown",
   "metadata": {},
   "source": [
    "Utilizamos el nuevo *DataFrame*"
   ]
  },
  {
   "cell_type": "code",
   "execution_count": null,
   "metadata": {},
   "outputs": [],
   "source": [
    "df_traducido = pd.read_csv(\"world_risk_translate.csv\", index_col=0)"
   ]
  },
  {
   "cell_type": "code",
   "execution_count": null,
   "metadata": {},
   "outputs": [],
   "source": [
    "df_traducido.sample()"
   ]
  },
  {
   "cell_type": "code",
   "execution_count": null,
   "metadata": {},
   "outputs": [],
   "source": [
    "col = df_traducido.pop('countries')\n",
    "df_traducido.insert(loc= 0 , column= 'countries', value= col)\n",
    "df_traducido.sample()\n",
    "#ponemos la columna countries al principio para que sea más facil averiguar la traduccion"
   ]
  },
  {
   "cell_type": "code",
   "execution_count": null,
   "metadata": {},
   "outputs": [],
   "source": [
    "#countries_list = df_traducido[\"countries\"].unique()\n",
    "#countries_list.sort()\n",
    "#countries_list"
   ]
  },
  {
   "cell_type": "markdown",
   "metadata": {},
   "source": [
    "Nos enteramos que hay paises que están en idiomas que el perfil gratis de *deepL* no permite traducir.  \n",
    "  \n",
    "Decidimos de revisar si hay algun patron, pero al no encontrar, decidimos revisar la lista y sustituir con el nombre correcto.  \n",
    "\n",
    "P.S. las formulas arriba están con # para que no se haga dificil leer el fichero desce el *GitHub*"
   ]
  },
  {
   "cell_type": "code",
   "execution_count": null,
   "metadata": {},
   "outputs": [],
   "source": [
    "#df_traducido[df_traducido[\"countries\"] == \"viet took\"]"
   ]
  },
  {
   "cell_type": "code",
   "execution_count": null,
   "metadata": {},
   "outputs": [],
   "source": [
    "#df_traducido[df_traducido[\"countries\"] == \"united states v. a.\"]"
   ]
  },
  {
   "cell_type": "code",
   "execution_count": null,
   "metadata": {},
   "outputs": [],
   "source": [
    "#df_traducido[df_traducido[\"countries\"] == \"syrian\"]"
   ]
  },
  {
   "cell_type": "code",
   "execution_count": null,
   "metadata": {},
   "outputs": [],
   "source": [
    "#df_traducido[df_traducido[\"countries\"] == \"ver. arab emirates\"]"
   ]
  },
  {
   "cell_type": "code",
   "execution_count": null,
   "metadata": {},
   "outputs": [],
   "source": [
    "#df_traducido[df_traducido[\"countries\"] == \"please contact\"]"
   ]
  },
  {
   "cell_type": "code",
   "execution_count": null,
   "metadata": {},
   "outputs": [],
   "source": [
    "#df_traducido[df_traducido[\"countries\"] == \"noseeeland\"]"
   ]
  },
  {
   "cell_type": "code",
   "execution_count": null,
   "metadata": {},
   "outputs": [],
   "source": [
    "#df_traducido[df_traducido[\"countries\"] == \"logs\"]"
   ]
  },
  {
   "cell_type": "code",
   "execution_count": null,
   "metadata": {},
   "outputs": [],
   "source": [
    "#df_traducido[df_traducido[\"countries\"] == \"i am\"]"
   ]
  },
  {
   "cell_type": "code",
   "execution_count": null,
   "metadata": {},
   "outputs": [],
   "source": [
    "#df_traducido[df_traducido[\"countries\"] == \"grenada\"]"
   ]
  },
  {
   "cell_type": "code",
   "execution_count": null,
   "metadata": {},
   "outputs": [],
   "source": [
    "#df_traducido[df_traducido[\"countries\"] == \"chamber\"]"
   ]
  },
  {
   "cell_type": "code",
   "execution_count": null,
   "metadata": {},
   "outputs": [],
   "source": [
    "df_traducido[df_traducido[\"countries\"] == \"soil\"]"
   ]
  },
  {
   "cell_type": "code",
   "execution_count": null,
   "metadata": {},
   "outputs": [],
   "source": [
    "df_traducido['countries'] = df_traducido['countries'].replace(['albanien','antigua und barbuda','armenien','australian','bangladesch','bulgarian','cap verde','chamber','columbien','democratic republic of congo','Kongo','eswatini','federated states v. micronesia',\"gabun\",'i am','indien'], \n",
    " ['albania','antigua and barbuda','armenia','australia','bangladesh','bulgaria','cape verde','comoros','colombia','congo','congo','swaziland','federated states of micronesia',\"gabon\",'benin','india'])"
   ]
  },
  {
   "cell_type": "code",
   "execution_count": null,
   "metadata": {},
   "outputs": [],
   "source": [
    "df_traducido['countries'] = df_traducido['countries'].replace(['niederlande','noseeeland','philippinen','please contact','russian federation','sambia','seychellen','simbabwe','spanien','st. vincent and the grenadines','st. vincent u. die grenadinen','swasiland','t. f. yugo. rep. of macedonia','ver. arab emirates','viet Nam'], \n",
    "                                                              ['netherlands','new zealand','philippines','suriname','russia','zambia','seychelles','zimbabwe','spain','saint vincent and the grenadines','saint vincent and the grenadines','swaziland','macedonia',\"united arab emirates\",'vietnam'])"
   ]
  },
  {
   "cell_type": "code",
   "execution_count": null,
   "metadata": {},
   "outputs": [],
   "source": [
    "df_traducido['countries'] = df_traducido['countries'].replace(['syrian','syrian arab republic','são tomé and príncipe','são tomé und príncipe','tadschikistan','trinidad und tobago','united states', 'united states v. a.' ,\"viet took\"], \n",
    "                                                              ['syria','syria','sao tome and principe','sao tome and principe','tajikistan','trinidad and tobago','united states of america','united states of america','viet Nam'])"
   ]
  },
  {
   "cell_type": "code",
   "execution_count": null,
   "metadata": {},
   "outputs": [],
   "source": [
    "df_traducido['countries'] = df_traducido['countries'].replace(['indonesien','iran (islamic republic of)','irland','island','italian','jordanien','korea republic of','korea republic of 4.59',\"lao people's democ. republic\",\"lao people's democratic republic\",'libyan arab jamahiriya','logs','mauretanien','moldawien','republic of moldova','mongolei','north macedonia','surinam'], \n",
    " ['indonesia','iran','ireland','iceland','italy','jordan','south korea','south korea','laos','laos','libya','poland','mauritania','moldova','moldova','mongolia','macedonia',\"suriname\"])"
   ]
  },
  {
   "cell_type": "code",
   "execution_count": null,
   "metadata": {},
   "outputs": [],
   "source": [
    "df_traducido['countries'] = df_traducido['countries'].replace([\"cote d'ivoire\",'kongo','republic of macedonia','mosambik','united republic of tanzania',], \n",
    " ['ivory coast','congo','macedonia','mozambique','tanzania'])"
   ]
  },
  {
   "cell_type": "code",
   "execution_count": null,
   "metadata": {},
   "outputs": [],
   "source": [
    "df_traducido['countries'] = df_traducido['countries'].replace(['viet Nam',\"soil\"],[\"vietnam\",\"jordan\"])"
   ]
  },
  {
   "cell_type": "code",
   "execution_count": null,
   "metadata": {},
   "outputs": [],
   "source": [
    "#lista_paises = df_traducido[\"countries\"].unique()\n",
    "#lista_paises.sort()\n",
    "#lista_paises"
   ]
  },
  {
   "cell_type": "code",
   "execution_count": null,
   "metadata": {},
   "outputs": [],
   "source": [
    "df_traducido[\"countries\"].describe()[1]\n",
    "#hemos conseguido tener 181 unique!"
   ]
  },
  {
   "cell_type": "code",
   "execution_count": null,
   "metadata": {},
   "outputs": [],
   "source": [
    "df_traducido[\"countries\"].value_counts()"
   ]
  },
  {
   "cell_type": "code",
   "execution_count": null,
   "metadata": {},
   "outputs": [],
   "source": [
    "df_traducido.to_csv('world_risk_translate_final.csv') #Guardamos el csv con los cambios"
   ]
  }
 ],
 "metadata": {
  "kernelspec": {
   "display_name": "Python 3.9.7 ('base')",
   "language": "python",
   "name": "python3"
  },
  "language_info": {
   "codemirror_mode": {
    "name": "ipython",
    "version": 3
   },
   "file_extension": ".py",
   "mimetype": "text/x-python",
   "name": "python",
   "nbconvert_exporter": "python",
   "pygments_lexer": "ipython3",
   "version": "3.9.7"
  },
  "orig_nbformat": 4,
  "vscode": {
   "interpreter": {
    "hash": "651c3b7b3f466eb030aa737f279c846be4db9cba49a2f229278cab5e41121ed5"
   }
  }
 },
 "nbformat": 4,
 "nbformat_minor": 2
}
