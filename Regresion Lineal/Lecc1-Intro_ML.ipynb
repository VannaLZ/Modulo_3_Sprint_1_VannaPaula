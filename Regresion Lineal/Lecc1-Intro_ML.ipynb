{
 "cells": [
  {
   "attachments": {},
   "cell_type": "markdown",
   "metadata": {},
   "source": [
    "## Ejercicios de pair programming 18 enero: Intro a Machine Learning"
   ]
  },
  {
   "cell_type": "code",
   "execution_count": 2,
   "metadata": {},
   "outputs": [],
   "source": [
    "import pandas as pd\n",
    "import numpy as np\n",
    "import matplotlib.pyplot as plt\n",
    "import seaborn as sns"
   ]
  },
  {
   "cell_type": "code",
   "execution_count": 3,
   "metadata": {},
   "outputs": [],
   "source": [
    "df = pd.read_csv(\"../datos/world_risk_index.csv\")"
   ]
  },
  {
   "cell_type": "code",
   "execution_count": 7,
   "metadata": {},
   "outputs": [
    {
     "data": {
      "text/html": [
       "<div>\n",
       "<style scoped>\n",
       "    .dataframe tbody tr th:only-of-type {\n",
       "        vertical-align: middle;\n",
       "    }\n",
       "\n",
       "    .dataframe tbody tr th {\n",
       "        vertical-align: top;\n",
       "    }\n",
       "\n",
       "    .dataframe thead th {\n",
       "        text-align: right;\n",
       "    }\n",
       "</style>\n",
       "<table border=\"1\" class=\"dataframe\">\n",
       "  <thead>\n",
       "    <tr style=\"text-align: right;\">\n",
       "      <th></th>\n",
       "      <th>Region</th>\n",
       "      <th>WRI</th>\n",
       "      <th>Exposure</th>\n",
       "      <th>Vulnerability</th>\n",
       "      <th>Susceptibility</th>\n",
       "      <th>Lack of Coping Capabilities</th>\n",
       "      <th>Lack of Adaptive Capacities</th>\n",
       "      <th>Year</th>\n",
       "      <th>Exposure Category</th>\n",
       "      <th>WRI Category</th>\n",
       "      <th>Vulnerability Category</th>\n",
       "      <th>Susceptibility Category</th>\n",
       "    </tr>\n",
       "  </thead>\n",
       "  <tbody>\n",
       "    <tr>\n",
       "      <th>0</th>\n",
       "      <td>Vanuatu</td>\n",
       "      <td>32.00</td>\n",
       "      <td>56.33</td>\n",
       "      <td>56.81</td>\n",
       "      <td>37.14</td>\n",
       "      <td>79.34</td>\n",
       "      <td>53.96</td>\n",
       "      <td>2011</td>\n",
       "      <td>Very High</td>\n",
       "      <td>Very High</td>\n",
       "      <td>High</td>\n",
       "      <td>High</td>\n",
       "    </tr>\n",
       "    <tr>\n",
       "      <th>1</th>\n",
       "      <td>Tonga</td>\n",
       "      <td>29.08</td>\n",
       "      <td>56.04</td>\n",
       "      <td>51.90</td>\n",
       "      <td>28.94</td>\n",
       "      <td>81.80</td>\n",
       "      <td>44.97</td>\n",
       "      <td>2011</td>\n",
       "      <td>Very High</td>\n",
       "      <td>Very High</td>\n",
       "      <td>Medium</td>\n",
       "      <td>Medium</td>\n",
       "    </tr>\n",
       "    <tr>\n",
       "      <th>2</th>\n",
       "      <td>Philippinen</td>\n",
       "      <td>24.32</td>\n",
       "      <td>45.09</td>\n",
       "      <td>53.93</td>\n",
       "      <td>34.99</td>\n",
       "      <td>82.78</td>\n",
       "      <td>44.01</td>\n",
       "      <td>2011</td>\n",
       "      <td>Very High</td>\n",
       "      <td>Very High</td>\n",
       "      <td>High</td>\n",
       "      <td>High</td>\n",
       "    </tr>\n",
       "    <tr>\n",
       "      <th>3</th>\n",
       "      <td>Salomonen</td>\n",
       "      <td>23.51</td>\n",
       "      <td>36.40</td>\n",
       "      <td>64.60</td>\n",
       "      <td>44.11</td>\n",
       "      <td>85.95</td>\n",
       "      <td>63.74</td>\n",
       "      <td>2011</td>\n",
       "      <td>Very High</td>\n",
       "      <td>Very High</td>\n",
       "      <td>Very High</td>\n",
       "      <td>High</td>\n",
       "    </tr>\n",
       "    <tr>\n",
       "      <th>4</th>\n",
       "      <td>Guatemala</td>\n",
       "      <td>20.88</td>\n",
       "      <td>38.42</td>\n",
       "      <td>54.35</td>\n",
       "      <td>35.36</td>\n",
       "      <td>77.83</td>\n",
       "      <td>49.87</td>\n",
       "      <td>2011</td>\n",
       "      <td>Very High</td>\n",
       "      <td>Very High</td>\n",
       "      <td>High</td>\n",
       "      <td>High</td>\n",
       "    </tr>\n",
       "  </tbody>\n",
       "</table>\n",
       "</div>"
      ],
      "text/plain": [
       "        Region    WRI  Exposure  Vulnerability  Susceptibility  \\\n",
       "0      Vanuatu  32.00     56.33          56.81           37.14   \n",
       "1        Tonga  29.08     56.04          51.90           28.94   \n",
       "2  Philippinen  24.32     45.09          53.93           34.99   \n",
       "3    Salomonen  23.51     36.40          64.60           44.11   \n",
       "4    Guatemala  20.88     38.42          54.35           35.36   \n",
       "\n",
       "   Lack of Coping Capabilities   Lack of Adaptive Capacities  Year  \\\n",
       "0                        79.34                         53.96  2011   \n",
       "1                        81.80                         44.97  2011   \n",
       "2                        82.78                         44.01  2011   \n",
       "3                        85.95                         63.74  2011   \n",
       "4                        77.83                         49.87  2011   \n",
       "\n",
       "  Exposure Category WRI Category Vulnerability Category  \\\n",
       "0         Very High    Very High                   High   \n",
       "1         Very High    Very High                 Medium   \n",
       "2         Very High    Very High                   High   \n",
       "3         Very High    Very High              Very High   \n",
       "4         Very High    Very High                   High   \n",
       "\n",
       "  Susceptibility Category  \n",
       "0                    High  \n",
       "1                  Medium  \n",
       "2                    High  \n",
       "3                    High  \n",
       "4                    High  "
      ]
     },
     "execution_count": 7,
     "metadata": {},
     "output_type": "execute_result"
    }
   ],
   "source": [
    "df.head()"
   ]
  },
  {
   "attachments": {},
   "cell_type": "markdown",
   "metadata": {},
   "source": [
    "- Region\tString\tName of the region.\n",
    "- WRI\tDecimal\tWorld Risk Score of the region.\n",
    "- Exposure\tDecimal\tRisk/exposure to natural hazards such as earthquakes, hurricanes, floods, droughts, and sea ​​level rise.\n",
    "- Vulnerability\tDecimal\tVulnerability depending on infrastructure, nutrition, housing situation, and economic framework conditions.\n",
    "- Susceptibility\tDecimal\tSusceptibility depending on infrastructure, nutrition, housing situation, and economic framework conditions.\n",
    "- Lack of Coping Capabilities\tDecimal\tCoping capacities in dependence of governance, preparedness and early warning, medical care, and social and material security.\n",
    "- Lack of Adaptive Capacities\tDecimal\tAdaptive capacities related to coming natural events, climate change, and other challenges.\n",
    "- Year\tDecimal\tYear data is being described.\n",
    "- WRI Category\tString\tWRI Category for the given WRI Score.\n",
    "- Exposure Category\tString\tExposure Category for the given Exposure Score.\n",
    "- Vulnerability Categoy\tString\tVulnerability Category for the given Vulnerability Score.\n",
    "- Susceptibility Category\tString\tSusceptibility Category for the given Susceptibility Score."
   ]
  },
  {
   "attachments": {},
   "cell_type": "markdown",
   "metadata": {},
   "source": [
    "Explicar los datos y las variables disponibles en el conjunto de datos seleccionado:\n",
    "- Esto se hace para que comprendais mejor los datos con los que estais trabajando.\n",
    "- Realizar un EDA sencillo para la variable dependiente y la variable independiente."
   ]
  },
  {
   "cell_type": "code",
   "execution_count": 8,
   "metadata": {},
   "outputs": [
    {
     "name": "stdout",
     "output_type": "stream",
     "text": [
      "<class 'pandas.core.frame.DataFrame'>\n",
      "RangeIndex: 1917 entries, 0 to 1916\n",
      "Data columns (total 12 columns):\n",
      " #   Column                        Non-Null Count  Dtype  \n",
      "---  ------                        --------------  -----  \n",
      " 0   Region                        1917 non-null   object \n",
      " 1   WRI                           1917 non-null   float64\n",
      " 2   Exposure                      1917 non-null   float64\n",
      " 3   Vulnerability                 1917 non-null   float64\n",
      " 4   Susceptibility                1917 non-null   float64\n",
      " 5   Lack of Coping Capabilities   1917 non-null   float64\n",
      " 6    Lack of Adaptive Capacities  1916 non-null   float64\n",
      " 7   Year                          1917 non-null   int64  \n",
      " 8   Exposure Category             1917 non-null   object \n",
      " 9   WRI Category                  1916 non-null   object \n",
      " 10  Vulnerability Category        1913 non-null   object \n",
      " 11  Susceptibility Category       1917 non-null   object \n",
      "dtypes: float64(6), int64(1), object(5)\n",
      "memory usage: 179.8+ KB\n"
     ]
    }
   ],
   "source": [
    "df.info()"
   ]
  },
  {
   "cell_type": "code",
   "execution_count": 10,
   "metadata": {},
   "outputs": [
    {
     "data": {
      "text/plain": [
       "(1917, 12)"
      ]
     },
     "execution_count": 10,
     "metadata": {},
     "output_type": "execute_result"
    }
   ],
   "source": [
    "df.shape"
   ]
  },
  {
   "cell_type": "code",
   "execution_count": 11,
   "metadata": {},
   "outputs": [
    {
     "data": {
      "text/html": [
       "<div>\n",
       "<style scoped>\n",
       "    .dataframe tbody tr th:only-of-type {\n",
       "        vertical-align: middle;\n",
       "    }\n",
       "\n",
       "    .dataframe tbody tr th {\n",
       "        vertical-align: top;\n",
       "    }\n",
       "\n",
       "    .dataframe thead th {\n",
       "        text-align: right;\n",
       "    }\n",
       "</style>\n",
       "<table border=\"1\" class=\"dataframe\">\n",
       "  <thead>\n",
       "    <tr style=\"text-align: right;\">\n",
       "      <th></th>\n",
       "      <th>count</th>\n",
       "      <th>mean</th>\n",
       "      <th>std</th>\n",
       "      <th>min</th>\n",
       "      <th>25%</th>\n",
       "      <th>50%</th>\n",
       "      <th>75%</th>\n",
       "      <th>max</th>\n",
       "    </tr>\n",
       "  </thead>\n",
       "  <tbody>\n",
       "    <tr>\n",
       "      <th>WRI</th>\n",
       "      <td>1917.0</td>\n",
       "      <td>7.551763</td>\n",
       "      <td>5.553257</td>\n",
       "      <td>0.02</td>\n",
       "      <td>3.7400</td>\n",
       "      <td>6.52</td>\n",
       "      <td>9.400</td>\n",
       "      <td>56.71</td>\n",
       "    </tr>\n",
       "    <tr>\n",
       "      <th>Exposure</th>\n",
       "      <td>1917.0</td>\n",
       "      <td>15.388336</td>\n",
       "      <td>10.240135</td>\n",
       "      <td>0.05</td>\n",
       "      <td>10.1600</td>\n",
       "      <td>12.76</td>\n",
       "      <td>16.450</td>\n",
       "      <td>99.88</td>\n",
       "    </tr>\n",
       "    <tr>\n",
       "      <th>Vulnerability</th>\n",
       "      <td>1917.0</td>\n",
       "      <td>48.075759</td>\n",
       "      <td>13.835666</td>\n",
       "      <td>14.31</td>\n",
       "      <td>37.0400</td>\n",
       "      <td>47.10</td>\n",
       "      <td>60.060</td>\n",
       "      <td>76.47</td>\n",
       "    </tr>\n",
       "    <tr>\n",
       "      <th>Susceptibility</th>\n",
       "      <td>1917.0</td>\n",
       "      <td>30.739431</td>\n",
       "      <td>15.667030</td>\n",
       "      <td>8.26</td>\n",
       "      <td>17.7900</td>\n",
       "      <td>25.40</td>\n",
       "      <td>42.640</td>\n",
       "      <td>70.83</td>\n",
       "    </tr>\n",
       "    <tr>\n",
       "      <th>Lack of Coping Capabilities</th>\n",
       "      <td>1917.0</td>\n",
       "      <td>70.438289</td>\n",
       "      <td>15.038854</td>\n",
       "      <td>31.59</td>\n",
       "      <td>59.3300</td>\n",
       "      <td>74.23</td>\n",
       "      <td>83.000</td>\n",
       "      <td>94.36</td>\n",
       "    </tr>\n",
       "    <tr>\n",
       "      <th>Lack of Adaptive Capacities</th>\n",
       "      <td>1916.0</td>\n",
       "      <td>43.090511</td>\n",
       "      <td>13.551156</td>\n",
       "      <td>11.16</td>\n",
       "      <td>33.1925</td>\n",
       "      <td>43.08</td>\n",
       "      <td>53.065</td>\n",
       "      <td>76.11</td>\n",
       "    </tr>\n",
       "    <tr>\n",
       "      <th>Year</th>\n",
       "      <td>1917.0</td>\n",
       "      <td>2016.049557</td>\n",
       "      <td>3.182045</td>\n",
       "      <td>2011.00</td>\n",
       "      <td>2013.0000</td>\n",
       "      <td>2016.00</td>\n",
       "      <td>2019.000</td>\n",
       "      <td>2021.00</td>\n",
       "    </tr>\n",
       "  </tbody>\n",
       "</table>\n",
       "</div>"
      ],
      "text/plain": [
       "                               count         mean        std      min  \\\n",
       "WRI                           1917.0     7.551763   5.553257     0.02   \n",
       "Exposure                      1917.0    15.388336  10.240135     0.05   \n",
       "Vulnerability                 1917.0    48.075759  13.835666    14.31   \n",
       "Susceptibility                1917.0    30.739431  15.667030     8.26   \n",
       "Lack of Coping Capabilities   1917.0    70.438289  15.038854    31.59   \n",
       " Lack of Adaptive Capacities  1916.0    43.090511  13.551156    11.16   \n",
       "Year                          1917.0  2016.049557   3.182045  2011.00   \n",
       "\n",
       "                                    25%      50%       75%      max  \n",
       "WRI                              3.7400     6.52     9.400    56.71  \n",
       "Exposure                        10.1600    12.76    16.450    99.88  \n",
       "Vulnerability                   37.0400    47.10    60.060    76.47  \n",
       "Susceptibility                  17.7900    25.40    42.640    70.83  \n",
       "Lack of Coping Capabilities     59.3300    74.23    83.000    94.36  \n",
       " Lack of Adaptive Capacities    33.1925    43.08    53.065    76.11  \n",
       "Year                          2013.0000  2016.00  2019.000  2021.00  "
      ]
     },
     "execution_count": 11,
     "metadata": {},
     "output_type": "execute_result"
    }
   ],
   "source": [
    "df.describe().T"
   ]
  },
  {
   "cell_type": "code",
   "execution_count": 12,
   "metadata": {},
   "outputs": [
    {
     "data": {
      "text/html": [
       "<div>\n",
       "<style scoped>\n",
       "    .dataframe tbody tr th:only-of-type {\n",
       "        vertical-align: middle;\n",
       "    }\n",
       "\n",
       "    .dataframe tbody tr th {\n",
       "        vertical-align: top;\n",
       "    }\n",
       "\n",
       "    .dataframe thead th {\n",
       "        text-align: right;\n",
       "    }\n",
       "</style>\n",
       "<table border=\"1\" class=\"dataframe\">\n",
       "  <thead>\n",
       "    <tr style=\"text-align: right;\">\n",
       "      <th></th>\n",
       "      <th>count</th>\n",
       "      <th>unique</th>\n",
       "      <th>top</th>\n",
       "      <th>freq</th>\n",
       "    </tr>\n",
       "  </thead>\n",
       "  <tbody>\n",
       "    <tr>\n",
       "      <th>Region</th>\n",
       "      <td>1917</td>\n",
       "      <td>306</td>\n",
       "      <td>Vanuatu</td>\n",
       "      <td>11</td>\n",
       "    </tr>\n",
       "    <tr>\n",
       "      <th>Exposure Category</th>\n",
       "      <td>1917</td>\n",
       "      <td>5</td>\n",
       "      <td>Very Low</td>\n",
       "      <td>393</td>\n",
       "    </tr>\n",
       "    <tr>\n",
       "      <th>WRI Category</th>\n",
       "      <td>1916</td>\n",
       "      <td>5</td>\n",
       "      <td>Very Low</td>\n",
       "      <td>393</td>\n",
       "    </tr>\n",
       "    <tr>\n",
       "      <th>Vulnerability Category</th>\n",
       "      <td>1913</td>\n",
       "      <td>5</td>\n",
       "      <td>Very Low</td>\n",
       "      <td>386</td>\n",
       "    </tr>\n",
       "    <tr>\n",
       "      <th>Susceptibility Category</th>\n",
       "      <td>1917</td>\n",
       "      <td>5</td>\n",
       "      <td>Very Low</td>\n",
       "      <td>390</td>\n",
       "    </tr>\n",
       "  </tbody>\n",
       "</table>\n",
       "</div>"
      ],
      "text/plain": [
       "                        count unique       top freq\n",
       "Region                   1917    306   Vanuatu   11\n",
       "Exposure Category        1917      5  Very Low  393\n",
       "WRI Category             1916      5  Very Low  393\n",
       "Vulnerability Category   1913      5  Very Low  386\n",
       "Susceptibility Category  1917      5  Very Low  390"
      ]
     },
     "execution_count": 12,
     "metadata": {},
     "output_type": "execute_result"
    }
   ],
   "source": [
    "df.describe(include = 'O').T"
   ]
  },
  {
   "cell_type": "code",
   "execution_count": 15,
   "metadata": {},
   "outputs": [
    {
     "data": {
      "text/plain": [
       "array(['Vanuatu', 'Tonga', 'Philippinen', 'Salomonen', 'Guatemala',\n",
       "       'Bangladesch', 'Timor-Leste', 'Costa Rica', 'Kambodscha',\n",
       "       'El Salvador', 'Nicaragua', 'Papua-Neuguinea', 'Madagaskar',\n",
       "       'Brunei Darussalam', 'Afghanistan', 'Niger', 'Gambia', 'Bhutan',\n",
       "       'Fidschi', 'Guinea-Bissau', 'Jamaika', 'Tschad', 'Honduras',\n",
       "       'Dominikanische Republik', 'Chile', 'Mauritius', 'Senegal',\n",
       "       'Indonesien', 'Burkina Faso', 'Burundi', 'Mali', 'Haiti',\n",
       "       'Sierra Leone', 'Vietnam', 'Japan', 'Benin', 'Togo', 'Kamerun',\n",
       "       'Albanien', 'Mosambik', 'Mauretanien', 'Simbabwe', 'Guinea',\n",
       "       'Kap Verde', 'Usbekistan', 'Ghana', 'Suriname', 'Sudan', 'Liberia',\n",
       "       'Nigeria', 'Elfenbeinküste', 'Guyana', 'Malawi', 'Ecuador',\n",
       "       'Ruanda', 'Tansania', 'Myanmar', 'Kirgisistan', 'Sambia',\n",
       "       'Äthiopien', 'Algerien', 'Angola', 'Samoa', 'Lesotho', 'Sri Lanka',\n",
       "       'Pakistan', 'Kenia', 'Kongo', 'Niederlande', 'Panama', 'Indien',\n",
       "       'Uganda', 'Tadschikistan', 'Swasiland', 'Peru', 'Eritrea',\n",
       "       'Zentralafrikanische Republik', 'Marokko', 'Griechenland',\n",
       "       'Dschibuti', 'Georgien', 'Turkmenistan', 'Komoren', 'Armenien',\n",
       "       'Thailand', 'Kolumbien', 'Jemen', 'Aserbaidschan',\n",
       "       'Äquatorialguinea', 'Trinidad und Tobago', 'Malaysia', 'Namibia',\n",
       "       'Mexiko', 'Rumänien', 'China', 'Gabun', 'Bosnien und Herzegowina',\n",
       "       'Syrien', 'Nepal', 'Venezuela', 'Kuba', 'Belize', 'Mazedonien',\n",
       "       'Laos', 'Irak', 'Tunesien', 'Südafrika', 'Botsuana', 'Ungarn',\n",
       "       'Serbien', 'Türkei', 'Bolivien', 'Jordanien', 'Iran', 'Libanon',\n",
       "       'Moldau', 'Italien', 'Bahamas', 'Australien', 'Neuseeland',\n",
       "       'Brasilien', 'Irland', 'Tschechische Republik', 'Südkorea',\n",
       "       'Paraguay', 'Vereinigte Arabisch Emirate', 'Bulgarien',\n",
       "       'Kasachstan', 'Uruguay', 'Argentinien', 'São Tomé und Príncipe',\n",
       "       'Slowenien', 'Vereinigte Staaten v. A.', 'Kroatien', 'Kuwait',\n",
       "       'Libyen', 'Portugal', 'Vereinigtes Königreich',\n",
       "       'Russische Föderation', 'Belgien', 'Zypern', 'Mongolei', 'Polen',\n",
       "       'Österreich', 'Slowakei', 'Spanien', 'Lettland', 'Ukraine',\n",
       "       'Belarus', 'Deutschland', 'Litauen', 'Dänemark', 'Singapur',\n",
       "       'Oman', 'Frankreich', 'Luxemburg', 'Seychellen', 'Israel',\n",
       "       'Kanada', 'Schweiz', 'Barbados', 'Ägypten', 'Grenada', 'Norwegen',\n",
       "       'Estland', 'Finnland', 'Schweden', 'Kiribati', 'Bahrain', 'Island',\n",
       "       'Saudi-Arabien', 'Malta', 'Katar', 'Surinam', 'Botswana',\n",
       "       'Moldawien', 'Vereinigte Staaten von Amerika', 'Weißrussland',\n",
       "       'Vereinigte Arabische Emirate', 'Zentralafrik. Republik',\n",
       "       'Ver. Arabische Emirate', 'Philippines', 'Bangladesh',\n",
       "       'Solomon Islands', 'Cambodia', 'Papua New Guinea', 'Fiji',\n",
       "       'Viet Nam', 'Jamaica', 'Dominican Republic', 'Chad', 'Cameroon',\n",
       "       'Madagascar', 'Indonesia', 'Cape Verde', 'Albania', 'Zimbabwe',\n",
       "       'Djibouti', \"Cote d'Ivoire\", 'Mozambique', 'Uzbekistan',\n",
       "       'Kyrgyzstan', 'Netherlands', 'Mauritania',\n",
       "       'United Republic of Tanzania', 'Swaziland', 'Algeria', 'Zambia',\n",
       "       'Ethiopia', 'Congo', 'Trinidad and Tobago', 'Comoros', 'Rwanda',\n",
       "       'Tajikistan', 'Greece', 'India', 'Kenya', 'Serbia', 'Colombia',\n",
       "       'Morocco', 'Georgia', 'Central African Republic', 'Romania',\n",
       "       'Cuba', 'Mexico', 'Gabon', 'Armenia', 'Bosnia and Herzegovina',\n",
       "       'T. f. Yugo. Rep. of Macedonia', 'Yemen', 'Azerbaijan',\n",
       "       \"Lao People's Democratic Republic\", 'Syrian Arab Republic',\n",
       "       'Tunisia', 'Hungary', 'South Africa', 'Turkey', 'Bolivia',\n",
       "       'Lebanon', 'Republic of Moldova', 'Iraq', 'Korea Republic of',\n",
       "       'Jordan', 'Equatorial Guinea', 'Ireland', 'Italy', 'Brazil',\n",
       "       'Croatia', 'Bulgaria', 'New Zealand', 'Libyan Arab Jamahiriya',\n",
       "       'Australia', 'United States', 'Russia', 'Kazakhstan', 'Argentina',\n",
       "       'Slovenia', 'Austria', 'Slovakia', 'United Kingdom',\n",
       "       'Czech Republic', 'Latvia', 'Belgium', 'Poland', 'Spain', 'Canada',\n",
       "       'Lithuania', 'Germany', 'Mongolia', 'Denmark', 'Cyprus', 'France',\n",
       "       'Luxembourg', 'Seychelles', 'Switzerland', 'Estonia', 'Norway',\n",
       "       'Egypt', 'Singapore', 'Finland', 'Sweden', 'United Arab Emirates',\n",
       "       'Iceland', 'Saudi Arabia', 'Qatar', 'Dominica',\n",
       "       'Antigua und Barbuda', 'Demokratische Rep. Kongo', 'Eswatini',\n",
       "       'Föd. Staaten von Mikronesien', 'Montenegro', 'Nordmazedonien',\n",
       "       'St. Lucia', 'Ver. Staaten von Amerika', 'São Tomé and Príncipe',\n",
       "       'Malediven', 'St. Vincent u. die Grenadinen',\n",
       "       'St. Vincent und d. Grenadinen', 'Föd. Staaten v. Mikronesien',\n",
       "       'St. Vincent u. d. Grenadinen', 'Romänien', 'Mongolien',\n",
       "       'Republic of Macedonia', \"Lao People's Democ. Republic\",\n",
       "       'Iran (Islamic Republic of)', 'Korea Republic of 4.59'],\n",
       "      dtype=object)"
      ]
     },
     "execution_count": 15,
     "metadata": {},
     "output_type": "execute_result"
    }
   ],
   "source": [
    "df['Region'].unique()"
   ]
  },
  {
   "cell_type": "code",
   "execution_count": 8,
   "metadata": {},
   "outputs": [
    {
     "data": {
      "text/plain": [
       "Region                         0\n",
       "WRI                            0\n",
       "Exposure                       0\n",
       "Vulnerability                  0\n",
       "Susceptibility                 0\n",
       "Lack of Coping Capabilities    0\n",
       "Lack of Adaptive Capacities    1\n",
       "Year                           0\n",
       "Exposure Category              0\n",
       "WRI Category                   1\n",
       "Vulnerability Category         4\n",
       "Susceptibility Category        0\n",
       "dtype: int64"
      ]
     },
     "execution_count": 8,
     "metadata": {},
     "output_type": "execute_result"
    }
   ],
   "source": [
    "df.isnull().sum()"
   ]
  },
  {
   "cell_type": "code",
   "execution_count": 17,
   "metadata": {},
   "outputs": [
    {
     "data": {
      "text/plain": [
       "0"
      ]
     },
     "execution_count": 17,
     "metadata": {},
     "output_type": "execute_result"
    }
   ],
   "source": [
    "df.duplicated().sum()"
   ]
  },
  {
   "cell_type": "code",
   "execution_count": 18,
   "metadata": {},
   "outputs": [
    {
     "data": {
      "text/html": [
       "<div>\n",
       "<style scoped>\n",
       "    .dataframe tbody tr th:only-of-type {\n",
       "        vertical-align: middle;\n",
       "    }\n",
       "\n",
       "    .dataframe tbody tr th {\n",
       "        vertical-align: top;\n",
       "    }\n",
       "\n",
       "    .dataframe thead th {\n",
       "        text-align: right;\n",
       "    }\n",
       "</style>\n",
       "<table border=\"1\" class=\"dataframe\">\n",
       "  <thead>\n",
       "    <tr style=\"text-align: right;\">\n",
       "      <th></th>\n",
       "      <th>WRI</th>\n",
       "      <th>Exposure</th>\n",
       "      <th>Vulnerability</th>\n",
       "      <th>Susceptibility</th>\n",
       "      <th>Lack of Coping Capabilities</th>\n",
       "      <th>Lack of Adaptive Capacities</th>\n",
       "      <th>Year</th>\n",
       "    </tr>\n",
       "  </thead>\n",
       "  <tbody>\n",
       "    <tr>\n",
       "      <th>0</th>\n",
       "      <td>32.00</td>\n",
       "      <td>56.33</td>\n",
       "      <td>56.81</td>\n",
       "      <td>37.14</td>\n",
       "      <td>79.34</td>\n",
       "      <td>53.96</td>\n",
       "      <td>2011</td>\n",
       "    </tr>\n",
       "    <tr>\n",
       "      <th>1</th>\n",
       "      <td>29.08</td>\n",
       "      <td>56.04</td>\n",
       "      <td>51.90</td>\n",
       "      <td>28.94</td>\n",
       "      <td>81.80</td>\n",
       "      <td>44.97</td>\n",
       "      <td>2011</td>\n",
       "    </tr>\n",
       "  </tbody>\n",
       "</table>\n",
       "</div>"
      ],
      "text/plain": [
       "     WRI  Exposure  Vulnerability  Susceptibility  \\\n",
       "0  32.00     56.33          56.81           37.14   \n",
       "1  29.08     56.04          51.90           28.94   \n",
       "\n",
       "   Lack of Coping Capabilities   Lack of Adaptive Capacities  Year  \n",
       "0                        79.34                         53.96  2011  \n",
       "1                        81.80                         44.97  2011  "
      ]
     },
     "execution_count": 18,
     "metadata": {},
     "output_type": "execute_result"
    }
   ],
   "source": [
    "numericas = df.select_dtypes(include=['int64', 'float64'])\n",
    "numericas.head(2)"
   ]
  },
  {
   "cell_type": "code",
   "execution_count": 27,
   "metadata": {},
   "outputs": [
    {
     "data": {
      "image/png": "[encoded data removed]",
      "text/plain": [
       "<Figure size 2500x1500 with 7 Axes>"
      ]
     },
     "metadata": {},
     "output_type": "display_data"
    }
   ],
   "source": [
    "fig, axes = plt.subplots(2, 4, figsize=(25,15))\n",
    "\n",
    "axes = axes.flat\n",
    "\n",
    "for indice, columna in enumerate(numericas.columns):\n",
    "    sns.boxplot(x = numericas[columna], data = df, ax=axes[indice], color = \"aquamarine\"); # para trazar una línea de densidad\n",
    "\n",
    "    \n",
    "plt.tight_layout()\n",
    "fig.delaxes(axes[-1])\n",
    "plt.show()"
   ]
  },
  {
   "cell_type": "code",
   "execution_count": 4,
   "metadata": {},
   "outputs": [],
   "source": [
    "columnas_nuevas = {col :  col.strip().lower() for col in df.columns}"
   ]
  },
  {
   "cell_type": "code",
   "execution_count": 5,
   "metadata": {},
   "outputs": [],
   "source": [
    "df.rename(columns = columnas_nuevas, inplace = True)"
   ]
  },
  {
   "cell_type": "code",
   "execution_count": 7,
   "metadata": {},
   "outputs": [
    {
     "data": {
      "text/plain": [
       "Index(['Region', 'WRI', 'Exposure', 'Vulnerability', 'Susceptibility',\n",
       "       'Lack of Coping Capabilities', 'Lack of Adaptive Capacities', 'Year',\n",
       "       'Exposure Category', 'WRI Category', 'Vulnerability Category',\n",
       "       'Susceptibility Category'],\n",
       "      dtype='object')"
      ]
     },
     "execution_count": 7,
     "metadata": {},
     "output_type": "execute_result"
    }
   ],
   "source": [
    "df.columns"
   ]
  },
  {
   "cell_type": "code",
   "execution_count": null,
   "metadata": {},
   "outputs": [],
   "source": [
    "df.to_csv('../datos/world_risk_index2.csv')"
   ]
  }
 ],
 "metadata": {
  "kernelspec": {
   "display_name": "base",
   "language": "python",
   "name": "python3"
  },
  "language_info": {
   "codemirror_mode": {
    "name": "ipython",
    "version": 3
   },
   "file_extension": ".py",
   "mimetype": "text/x-python",
   "name": "python",
   "nbconvert_exporter": "python",
   "pygments_lexer": "ipython3",
   "version": "3.9.13"
  },
  "orig_nbformat": 4,
  "vscode": {
   "interpreter": {
    "hash": "85c042135e83639dad74b6ec6c9d943b5dc47ca281624d931a3e14168052f53c"
   }
  }
 },
 "nbformat": 4,
 "nbformat_minor": 2
}
